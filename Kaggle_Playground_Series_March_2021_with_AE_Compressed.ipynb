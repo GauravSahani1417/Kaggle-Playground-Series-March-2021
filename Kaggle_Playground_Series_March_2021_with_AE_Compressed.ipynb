{
  "nbformat": 4,
  "nbformat_minor": 0,
  "metadata": {
    "colab": {
      "name": "Kaggle Playground Series March-2021 with AE Compressed.ipynb",
      "provenance": [],
      "mount_file_id": "164d_IGzvFYuZxaUxwdUquhrIXiFZWwBG",
      "authorship_tag": "ABX9TyO49bU+zVBxg92fkY61Yf3F",
      "include_colab_link": true
    },
    "kernelspec": {
      "display_name": "Python 3",
      "name": "python3"
    },
    "language_info": {
      "name": "python"
    }
  },
  "cells": [
    {
      "cell_type": "markdown",
      "metadata": {
        "id": "view-in-github",
        "colab_type": "text"
      },
      "source": [
        "<a href=\"https://colab.research.google.com/github/GauravSahani1417/Kaggle-Playground-Series-March-2021/blob/main/Kaggle_Playground_Series_March_2021_with_AE_Compressed.ipynb\" target=\"_parent\"><img src=\"https://colab.research.google.com/assets/colab-badge.svg\" alt=\"Open In Colab\"/></a>"
      ]
    },
    {
      "cell_type": "code",
      "metadata": {
        "id": "Arqj0-3xdY3X"
      },
      "source": [
        "#AE training without Compression (Demo)\n",
        "from sklearn.datasets import make_classification\n",
        "from sklearn.preprocessing import MinMaxScaler\n",
        "from sklearn.model_selection import train_test_split\n",
        "from tensorflow.keras.models import Model\n",
        "from tensorflow.keras.layers import Input\n",
        "from tensorflow.keras.layers import Dense\n",
        "from tensorflow.keras.layers import LeakyReLU\n",
        "from tensorflow.keras.layers import BatchNormalization\n",
        "from tensorflow.keras.utils import plot_model\n",
        "from matplotlib import pyplot"
      ],
      "execution_count": 1,
      "outputs": []
    },
    {
      "cell_type": "code",
      "metadata": {
        "id": "DeqfrOmZddfR"
      },
      "source": [
        "import pandas as pd\n",
        "import numpy as np"
      ],
      "execution_count": 2,
      "outputs": []
    },
    {
      "cell_type": "code",
      "metadata": {
        "id": "hC0GDzlpdrSi"
      },
      "source": [
        "df_train = pd.read_csv(\"/content/drive/MyDrive/March 2021 Playground series/train.csv\")\n",
        "df_test = pd.read_csv(\"/content/drive/MyDrive/March 2021 Playground series/test.csv\")"
      ],
      "execution_count": 3,
      "outputs": []
    },
    {
      "cell_type": "code",
      "metadata": {
        "id": "S3m_vdnsdz5d"
      },
      "source": [
        "df_train.drop(\"id\", axis=1, inplace=True)\n",
        "df_test.drop(\"id\", axis=1, inplace=True)"
      ],
      "execution_count": 4,
      "outputs": []
    },
    {
      "cell_type": "code",
      "metadata": {
        "id": "ryGYq5FOd2ay"
      },
      "source": [
        "df_testing = pd.read_csv('/content/drive/MyDrive/March 2021 Playground series/test.csv')"
      ],
      "execution_count": 5,
      "outputs": []
    },
    {
      "cell_type": "code",
      "metadata": {
        "id": "LBH398qBd6Rr"
      },
      "source": [
        "df_train.drop(\"cont1\", axis=1, inplace=True)\n",
        "df_test.drop(\"cont1\", axis=1, inplace=True)\n",
        "\n",
        "df_train.drop(\"cont10\", axis=1, inplace=True)\n",
        "df_test.drop(\"cont10\", axis=1, inplace=True)"
      ],
      "execution_count": 6,
      "outputs": []
    },
    {
      "cell_type": "code",
      "metadata": {
        "id": "sxVlaKQwd7su"
      },
      "source": [
        "from sklearn.preprocessing import LabelEncoder"
      ],
      "execution_count": 7,
      "outputs": []
    },
    {
      "cell_type": "code",
      "metadata": {
        "colab": {
          "base_uri": "https://localhost:8080/",
          "height": 214
        },
        "id": "hmTCLIN2d9Gv",
        "outputId": "66f78027-3886-4b11-af9b-9beced8b9dc0"
      },
      "source": [
        "for c in df_train.columns: \n",
        "    if df_train[c].dtype=='object':\n",
        "        LE = LabelEncoder()\n",
        "        LE.fit(list(df_train[c].values) + list(df_train[c].values))\n",
        "        df_train[c] = LE.transform(df_train[c].values)\n",
        "        \n",
        "df_train.head()"
      ],
      "execution_count": 8,
      "outputs": [
        {
          "output_type": "execute_result",
          "data": {
            "text/html": [
              "<div>\n",
              "<style scoped>\n",
              "    .dataframe tbody tr th:only-of-type {\n",
              "        vertical-align: middle;\n",
              "    }\n",
              "\n",
              "    .dataframe tbody tr th {\n",
              "        vertical-align: top;\n",
              "    }\n",
              "\n",
              "    .dataframe thead th {\n",
              "        text-align: right;\n",
              "    }\n",
              "</style>\n",
              "<table border=\"1\" class=\"dataframe\">\n",
              "  <thead>\n",
              "    <tr style=\"text-align: right;\">\n",
              "      <th></th>\n",
              "      <th>cat0</th>\n",
              "      <th>cat1</th>\n",
              "      <th>cat2</th>\n",
              "      <th>cat3</th>\n",
              "      <th>cat4</th>\n",
              "      <th>cat5</th>\n",
              "      <th>cat6</th>\n",
              "      <th>cat7</th>\n",
              "      <th>cat8</th>\n",
              "      <th>cat9</th>\n",
              "      <th>cat10</th>\n",
              "      <th>cat11</th>\n",
              "      <th>cat12</th>\n",
              "      <th>cat13</th>\n",
              "      <th>cat14</th>\n",
              "      <th>cat15</th>\n",
              "      <th>cat16</th>\n",
              "      <th>cat17</th>\n",
              "      <th>cat18</th>\n",
              "      <th>cont0</th>\n",
              "      <th>cont2</th>\n",
              "      <th>cont3</th>\n",
              "      <th>cont4</th>\n",
              "      <th>cont5</th>\n",
              "      <th>cont6</th>\n",
              "      <th>cont7</th>\n",
              "      <th>cont8</th>\n",
              "      <th>cont9</th>\n",
              "      <th>target</th>\n",
              "    </tr>\n",
              "  </thead>\n",
              "  <tbody>\n",
              "    <tr>\n",
              "      <th>0</th>\n",
              "      <td>0</td>\n",
              "      <td>8</td>\n",
              "      <td>0</td>\n",
              "      <td>1</td>\n",
              "      <td>1</td>\n",
              "      <td>33</td>\n",
              "      <td>0</td>\n",
              "      <td>44</td>\n",
              "      <td>54</td>\n",
              "      <td>0</td>\n",
              "      <td>258</td>\n",
              "      <td>0</td>\n",
              "      <td>0</td>\n",
              "      <td>0</td>\n",
              "      <td>0</td>\n",
              "      <td>1</td>\n",
              "      <td>3</td>\n",
              "      <td>3</td>\n",
              "      <td>1</td>\n",
              "      <td>0.629858</td>\n",
              "      <td>0.759439</td>\n",
              "      <td>0.795549</td>\n",
              "      <td>0.681917</td>\n",
              "      <td>0.621672</td>\n",
              "      <td>0.592184</td>\n",
              "      <td>0.791921</td>\n",
              "      <td>0.815254</td>\n",
              "      <td>0.965006</td>\n",
              "      <td>0</td>\n",
              "    </tr>\n",
              "    <tr>\n",
              "      <th>1</th>\n",
              "      <td>0</td>\n",
              "      <td>8</td>\n",
              "      <td>0</td>\n",
              "      <td>0</td>\n",
              "      <td>4</td>\n",
              "      <td>33</td>\n",
              "      <td>8</td>\n",
              "      <td>48</td>\n",
              "      <td>3</td>\n",
              "      <td>5</td>\n",
              "      <td>162</td>\n",
              "      <td>0</td>\n",
              "      <td>1</td>\n",
              "      <td>0</td>\n",
              "      <td>1</td>\n",
              "      <td>3</td>\n",
              "      <td>1</td>\n",
              "      <td>3</td>\n",
              "      <td>1</td>\n",
              "      <td>0.370727</td>\n",
              "      <td>0.386385</td>\n",
              "      <td>0.541366</td>\n",
              "      <td>0.388982</td>\n",
              "      <td>0.357778</td>\n",
              "      <td>0.600044</td>\n",
              "      <td>0.408701</td>\n",
              "      <td>0.399353</td>\n",
              "      <td>0.927406</td>\n",
              "      <td>0</td>\n",
              "    </tr>\n",
              "    <tr>\n",
              "      <th>2</th>\n",
              "      <td>0</td>\n",
              "      <td>10</td>\n",
              "      <td>0</td>\n",
              "      <td>0</td>\n",
              "      <td>4</td>\n",
              "      <td>33</td>\n",
              "      <td>0</td>\n",
              "      <td>30</td>\n",
              "      <td>38</td>\n",
              "      <td>9</td>\n",
              "      <td>69</td>\n",
              "      <td>0</td>\n",
              "      <td>1</td>\n",
              "      <td>0</td>\n",
              "      <td>0</td>\n",
              "      <td>1</td>\n",
              "      <td>3</td>\n",
              "      <td>3</td>\n",
              "      <td>1</td>\n",
              "      <td>0.502272</td>\n",
              "      <td>0.343255</td>\n",
              "      <td>0.616352</td>\n",
              "      <td>0.793687</td>\n",
              "      <td>0.552877</td>\n",
              "      <td>0.352113</td>\n",
              "      <td>0.388835</td>\n",
              "      <td>0.412303</td>\n",
              "      <td>0.292696</td>\n",
              "      <td>0</td>\n",
              "    </tr>\n",
              "    <tr>\n",
              "      <th>3</th>\n",
              "      <td>0</td>\n",
              "      <td>10</td>\n",
              "      <td>0</td>\n",
              "      <td>2</td>\n",
              "      <td>4</td>\n",
              "      <td>33</td>\n",
              "      <td>0</td>\n",
              "      <td>50</td>\n",
              "      <td>3</td>\n",
              "      <td>5</td>\n",
              "      <td>241</td>\n",
              "      <td>0</td>\n",
              "      <td>0</td>\n",
              "      <td>0</td>\n",
              "      <td>0</td>\n",
              "      <td>1</td>\n",
              "      <td>3</td>\n",
              "      <td>3</td>\n",
              "      <td>1</td>\n",
              "      <td>0.934242</td>\n",
              "      <td>0.831147</td>\n",
              "      <td>0.807807</td>\n",
              "      <td>0.800032</td>\n",
              "      <td>0.619147</td>\n",
              "      <td>0.221789</td>\n",
              "      <td>0.897617</td>\n",
              "      <td>0.633669</td>\n",
              "      <td>0.760318</td>\n",
              "      <td>0</td>\n",
              "    </tr>\n",
              "    <tr>\n",
              "      <th>4</th>\n",
              "      <td>0</td>\n",
              "      <td>8</td>\n",
              "      <td>6</td>\n",
              "      <td>1</td>\n",
              "      <td>4</td>\n",
              "      <td>33</td>\n",
              "      <td>2</td>\n",
              "      <td>32</td>\n",
              "      <td>54</td>\n",
              "      <td>0</td>\n",
              "      <td>75</td>\n",
              "      <td>0</td>\n",
              "      <td>0</td>\n",
              "      <td>0</td>\n",
              "      <td>1</td>\n",
              "      <td>1</td>\n",
              "      <td>1</td>\n",
              "      <td>3</td>\n",
              "      <td>1</td>\n",
              "      <td>0.254427</td>\n",
              "      <td>0.338818</td>\n",
              "      <td>0.277308</td>\n",
              "      <td>0.610578</td>\n",
              "      <td>0.128291</td>\n",
              "      <td>0.578764</td>\n",
              "      <td>0.279167</td>\n",
              "      <td>0.351103</td>\n",
              "      <td>0.357084</td>\n",
              "      <td>1</td>\n",
              "    </tr>\n",
              "  </tbody>\n",
              "</table>\n",
              "</div>"
            ],
            "text/plain": [
              "   cat0  cat1  cat2  cat3  cat4  ...     cont6     cont7     cont8     cont9  target\n",
              "0     0     8     0     1     1  ...  0.592184  0.791921  0.815254  0.965006       0\n",
              "1     0     8     0     0     4  ...  0.600044  0.408701  0.399353  0.927406       0\n",
              "2     0    10     0     0     4  ...  0.352113  0.388835  0.412303  0.292696       0\n",
              "3     0    10     0     2     4  ...  0.221789  0.897617  0.633669  0.760318       0\n",
              "4     0     8     6     1     4  ...  0.578764  0.279167  0.351103  0.357084       1\n",
              "\n",
              "[5 rows x 29 columns]"
            ]
          },
          "metadata": {
            "tags": []
          },
          "execution_count": 8
        }
      ]
    },
    {
      "cell_type": "code",
      "metadata": {
        "colab": {
          "base_uri": "https://localhost:8080/",
          "height": 214
        },
        "id": "C-9muX8Od-ch",
        "outputId": "4f9bfdc5-77dc-495e-c25d-09a13702fb5e"
      },
      "source": [
        "for c in df_test.columns: \n",
        "    if df_test[c].dtype=='object':\n",
        "        LE = LabelEncoder()\n",
        "        LE.fit(list(df_test[c].values) + list(df_test[c].values))\n",
        "        df_test[c] = LE.transform(df_test[c].values)\n",
        "        \n",
        "df_test.head()"
      ],
      "execution_count": 9,
      "outputs": [
        {
          "output_type": "execute_result",
          "data": {
            "text/html": [
              "<div>\n",
              "<style scoped>\n",
              "    .dataframe tbody tr th:only-of-type {\n",
              "        vertical-align: middle;\n",
              "    }\n",
              "\n",
              "    .dataframe tbody tr th {\n",
              "        vertical-align: top;\n",
              "    }\n",
              "\n",
              "    .dataframe thead th {\n",
              "        text-align: right;\n",
              "    }\n",
              "</style>\n",
              "<table border=\"1\" class=\"dataframe\">\n",
              "  <thead>\n",
              "    <tr style=\"text-align: right;\">\n",
              "      <th></th>\n",
              "      <th>cat0</th>\n",
              "      <th>cat1</th>\n",
              "      <th>cat2</th>\n",
              "      <th>cat3</th>\n",
              "      <th>cat4</th>\n",
              "      <th>cat5</th>\n",
              "      <th>cat6</th>\n",
              "      <th>cat7</th>\n",
              "      <th>cat8</th>\n",
              "      <th>cat9</th>\n",
              "      <th>cat10</th>\n",
              "      <th>cat11</th>\n",
              "      <th>cat12</th>\n",
              "      <th>cat13</th>\n",
              "      <th>cat14</th>\n",
              "      <th>cat15</th>\n",
              "      <th>cat16</th>\n",
              "      <th>cat17</th>\n",
              "      <th>cat18</th>\n",
              "      <th>cont0</th>\n",
              "      <th>cont2</th>\n",
              "      <th>cont3</th>\n",
              "      <th>cont4</th>\n",
              "      <th>cont5</th>\n",
              "      <th>cont6</th>\n",
              "      <th>cont7</th>\n",
              "      <th>cont8</th>\n",
              "      <th>cont9</th>\n",
              "    </tr>\n",
              "  </thead>\n",
              "  <tbody>\n",
              "    <tr>\n",
              "      <th>0</th>\n",
              "      <td>0</td>\n",
              "      <td>5</td>\n",
              "      <td>0</td>\n",
              "      <td>0</td>\n",
              "      <td>5</td>\n",
              "      <td>33</td>\n",
              "      <td>0</td>\n",
              "      <td>8</td>\n",
              "      <td>23</td>\n",
              "      <td>0</td>\n",
              "      <td>249</td>\n",
              "      <td>0</td>\n",
              "      <td>0</td>\n",
              "      <td>0</td>\n",
              "      <td>0</td>\n",
              "      <td>1</td>\n",
              "      <td>3</td>\n",
              "      <td>3</td>\n",
              "      <td>1</td>\n",
              "      <td>0.708120</td>\n",
              "      <td>0.578366</td>\n",
              "      <td>0.723154</td>\n",
              "      <td>0.228037</td>\n",
              "      <td>0.356227</td>\n",
              "      <td>0.551249</td>\n",
              "      <td>0.655693</td>\n",
              "      <td>0.598331</td>\n",
              "      <td>0.359987</td>\n",
              "    </tr>\n",
              "    <tr>\n",
              "      <th>1</th>\n",
              "      <td>0</td>\n",
              "      <td>7</td>\n",
              "      <td>2</td>\n",
              "      <td>0</td>\n",
              "      <td>4</td>\n",
              "      <td>2</td>\n",
              "      <td>7</td>\n",
              "      <td>31</td>\n",
              "      <td>51</td>\n",
              "      <td>0</td>\n",
              "      <td>269</td>\n",
              "      <td>0</td>\n",
              "      <td>0</td>\n",
              "      <td>0</td>\n",
              "      <td>1</td>\n",
              "      <td>3</td>\n",
              "      <td>1</td>\n",
              "      <td>3</td>\n",
              "      <td>1</td>\n",
              "      <td>0.611637</td>\n",
              "      <td>0.928885</td>\n",
              "      <td>0.516602</td>\n",
              "      <td>0.600169</td>\n",
              "      <td>0.795224</td>\n",
              "      <td>0.248987</td>\n",
              "      <td>0.654614</td>\n",
              "      <td>0.347944</td>\n",
              "      <td>0.565520</td>\n",
              "    </tr>\n",
              "    <tr>\n",
              "      <th>2</th>\n",
              "      <td>0</td>\n",
              "      <td>13</td>\n",
              "      <td>2</td>\n",
              "      <td>0</td>\n",
              "      <td>5</td>\n",
              "      <td>2</td>\n",
              "      <td>0</td>\n",
              "      <td>8</td>\n",
              "      <td>28</td>\n",
              "      <td>0</td>\n",
              "      <td>121</td>\n",
              "      <td>0</td>\n",
              "      <td>0</td>\n",
              "      <td>0</td>\n",
              "      <td>1</td>\n",
              "      <td>1</td>\n",
              "      <td>3</td>\n",
              "      <td>3</td>\n",
              "      <td>1</td>\n",
              "      <td>0.456289</td>\n",
              "      <td>0.424876</td>\n",
              "      <td>0.344729</td>\n",
              "      <td>0.242073</td>\n",
              "      <td>0.270632</td>\n",
              "      <td>0.746740</td>\n",
              "      <td>0.335590</td>\n",
              "      <td>0.341238</td>\n",
              "      <td>0.252289</td>\n",
              "    </tr>\n",
              "    <tr>\n",
              "      <th>3</th>\n",
              "      <td>1</td>\n",
              "      <td>11</td>\n",
              "      <td>2</td>\n",
              "      <td>0</td>\n",
              "      <td>5</td>\n",
              "      <td>33</td>\n",
              "      <td>0</td>\n",
              "      <td>30</td>\n",
              "      <td>23</td>\n",
              "      <td>0</td>\n",
              "      <td>162</td>\n",
              "      <td>0</td>\n",
              "      <td>0</td>\n",
              "      <td>0</td>\n",
              "      <td>0</td>\n",
              "      <td>1</td>\n",
              "      <td>3</td>\n",
              "      <td>1</td>\n",
              "      <td>1</td>\n",
              "      <td>0.338692</td>\n",
              "      <td>0.598943</td>\n",
              "      <td>0.561971</td>\n",
              "      <td>0.806347</td>\n",
              "      <td>0.735983</td>\n",
              "      <td>0.538724</td>\n",
              "      <td>0.381566</td>\n",
              "      <td>0.481660</td>\n",
              "      <td>0.348514</td>\n",
              "    </tr>\n",
              "    <tr>\n",
              "      <th>4</th>\n",
              "      <td>0</td>\n",
              "      <td>5</td>\n",
              "      <td>0</td>\n",
              "      <td>1</td>\n",
              "      <td>5</td>\n",
              "      <td>33</td>\n",
              "      <td>0</td>\n",
              "      <td>8</td>\n",
              "      <td>46</td>\n",
              "      <td>0</td>\n",
              "      <td>173</td>\n",
              "      <td>0</td>\n",
              "      <td>0</td>\n",
              "      <td>0</td>\n",
              "      <td>0</td>\n",
              "      <td>3</td>\n",
              "      <td>3</td>\n",
              "      <td>3</td>\n",
              "      <td>1</td>\n",
              "      <td>0.631671</td>\n",
              "      <td>0.479572</td>\n",
              "      <td>0.767745</td>\n",
              "      <td>0.252454</td>\n",
              "      <td>0.354810</td>\n",
              "      <td>0.178920</td>\n",
              "      <td>0.763479</td>\n",
              "      <td>0.562491</td>\n",
              "      <td>0.466261</td>\n",
              "    </tr>\n",
              "  </tbody>\n",
              "</table>\n",
              "</div>"
            ],
            "text/plain": [
              "   cat0  cat1  cat2  cat3  ...     cont6     cont7     cont8     cont9\n",
              "0     0     5     0     0  ...  0.551249  0.655693  0.598331  0.359987\n",
              "1     0     7     2     0  ...  0.248987  0.654614  0.347944  0.565520\n",
              "2     0    13     2     0  ...  0.746740  0.335590  0.341238  0.252289\n",
              "3     1    11     2     0  ...  0.538724  0.381566  0.481660  0.348514\n",
              "4     0     5     0     1  ...  0.178920  0.763479  0.562491  0.466261\n",
              "\n",
              "[5 rows x 28 columns]"
            ]
          },
          "metadata": {
            "tags": []
          },
          "execution_count": 9
        }
      ]
    },
    {
      "cell_type": "code",
      "metadata": {
        "id": "Nqb1EvSHd_nT"
      },
      "source": [
        "X = df_train.drop(['target'],1)\n",
        "y = df_train['target']"
      ],
      "execution_count": 10,
      "outputs": []
    },
    {
      "cell_type": "code",
      "metadata": {
        "id": "0wa5lQy7eBNC"
      },
      "source": [
        "X_train, X_test, y_train, y_test = train_test_split(X, y, test_size=0.22, random_state=1)"
      ],
      "execution_count": 12,
      "outputs": []
    },
    {
      "cell_type": "code",
      "metadata": {
        "id": "PKdvYX7JeCdM"
      },
      "source": [
        "MMS = MinMaxScaler()\n",
        "MMS.fit(X_train)\n",
        "X_train = MMS.transform(X_train)\n",
        "X_test = MMS.transform(X_test)"
      ],
      "execution_count": 13,
      "outputs": []
    },
    {
      "cell_type": "code",
      "metadata": {
        "colab": {
          "base_uri": "https://localhost:8080/"
        },
        "id": "Mj3eQpDbeDln",
        "outputId": "1362424c-1fb7-4737-9054-11f0c4022a6e"
      },
      "source": [
        "X_train"
      ],
      "execution_count": 14,
      "outputs": [
        {
          "output_type": "execute_result",
          "data": {
            "text/plain": [
              "array([[0.        , 0.35714286, 0.        , ..., 0.56767739, 0.33406248,\n",
              "        0.32694385],\n",
              "       [1.        , 0.42857143, 0.27777778, ..., 0.03169253, 0.37796049,\n",
              "        0.34610996],\n",
              "       [1.        , 0.35714286, 0.        , ..., 0.54609106, 0.29334634,\n",
              "        0.12896742],\n",
              "       ...,\n",
              "       [0.        , 0.85714286, 0.        , ..., 0.24986355, 0.35305851,\n",
              "        0.28615951],\n",
              "       [0.        , 0.71428571, 0.        , ..., 0.14074886, 0.29900849,\n",
              "        0.22616807],\n",
              "       [1.        , 0.35714286, 0.        , ..., 0.36626158, 0.34130539,\n",
              "        0.08849364]])"
            ]
          },
          "metadata": {
            "tags": []
          },
          "execution_count": 14
        }
      ]
    },
    {
      "cell_type": "code",
      "metadata": {
        "colab": {
          "base_uri": "https://localhost:8080/"
        },
        "id": "PfTqjMCbeXo9",
        "outputId": "bbf650b0-3e03-49cf-f6d7-71cad19de610"
      },
      "source": [
        "n_inputs = X.shape[1]\n",
        "n_inputs"
      ],
      "execution_count": 15,
      "outputs": [
        {
          "output_type": "execute_result",
          "data": {
            "text/plain": [
              "28"
            ]
          },
          "metadata": {
            "tags": []
          },
          "execution_count": 15
        }
      ]
    },
    {
      "cell_type": "code",
      "metadata": {
        "id": "c2q09K9jeE8M"
      },
      "source": [
        "# define encoder\n",
        "visible = Input(shape=(n_inputs,))"
      ],
      "execution_count": 16,
      "outputs": []
    },
    {
      "cell_type": "code",
      "metadata": {
        "id": "BH_9aGwAeGW0"
      },
      "source": [
        "# encoder level 1\n",
        "e = Dense(n_inputs*2)(visible)\n",
        "e = BatchNormalization()(e)\n",
        "e = LeakyReLU()(e)"
      ],
      "execution_count": 17,
      "outputs": []
    },
    {
      "cell_type": "code",
      "metadata": {
        "id": "-84e4PTjemfi"
      },
      "source": [
        "# encoder level 2\n",
        "e = Dense(n_inputs)(e)\n",
        "e = BatchNormalization()(e)\n",
        "e = LeakyReLU()(e)"
      ],
      "execution_count": 18,
      "outputs": []
    },
    {
      "cell_type": "code",
      "metadata": {
        "id": "lHRkR2wnerzp"
      },
      "source": [
        "# bottleneck\n",
        "n_bottleneck = round(float(n_inputs) / 2.0)\n",
        "bottleneck = Dense(n_bottleneck)(e)"
      ],
      "execution_count": 19,
      "outputs": []
    },
    {
      "cell_type": "code",
      "metadata": {
        "id": "g9vHE0-Eeu_P"
      },
      "source": [
        "# define decoder, level 1\n",
        "d = Dense(n_inputs)(bottleneck)\n",
        "d = BatchNormalization()(d)\n",
        "d = LeakyReLU()(d)"
      ],
      "execution_count": 20,
      "outputs": []
    },
    {
      "cell_type": "code",
      "metadata": {
        "id": "ycVE14-2ew_m"
      },
      "source": [
        "# decoder level 2\n",
        "d = Dense(n_inputs*2)(d)\n",
        "d = BatchNormalization()(d)\n",
        "d = LeakyReLU()(d)"
      ],
      "execution_count": 21,
      "outputs": []
    },
    {
      "cell_type": "code",
      "metadata": {
        "id": "UQaR9GJYezT8"
      },
      "source": [
        "# output layer\n",
        "output = Dense(n_inputs, activation='linear')(d)"
      ],
      "execution_count": 22,
      "outputs": []
    },
    {
      "cell_type": "code",
      "metadata": {
        "id": "yyKFJKfoe1yT"
      },
      "source": [
        "# define autoencoder model\n",
        "model = Model(inputs=visible, outputs=output)"
      ],
      "execution_count": 23,
      "outputs": []
    },
    {
      "cell_type": "code",
      "metadata": {
        "id": "19d_nZ45e6Pt"
      },
      "source": [
        "# compile autoencoder model\n",
        "model.compile(optimizer='adam', loss='mse')"
      ],
      "execution_count": 24,
      "outputs": []
    },
    {
      "cell_type": "code",
      "metadata": {
        "colab": {
          "base_uri": "https://localhost:8080/",
          "height": 1000
        },
        "id": "lr2OfpfHe8ZV",
        "outputId": "65963b2e-1eb9-4648-d2f7-b0a9560911cd"
      },
      "source": [
        "# plot the autoencoder\n",
        "plot_model(model, 'autoencoder_no_compress.png', show_shapes=True)"
      ],
      "execution_count": 25,
      "outputs": [
        {
          "output_type": "execute_result",
          "data": {
            "image/png": "[encoded data removed]",
            "text/plain": [
              "<IPython.core.display.Image object>"
            ]
          },
          "metadata": {
            "tags": []
          },
          "execution_count": 25
        }
      ]
    },
    {
      "cell_type": "code",
      "metadata": {
        "colab": {
          "base_uri": "https://localhost:8080/"
        },
        "id": "iccEjSyBe-Du",
        "outputId": "0476f70e-814d-4260-fb06-a0332efc1922"
      },
      "source": [
        "# fit the autoencoder model to reconstruct input\n",
        "history = model.fit(X_train, X_train, epochs=200, batch_size=16, verbose=2, validation_data=(X_test,X_test))"
      ],
      "execution_count": 26,
      "outputs": [
        {
          "output_type": "stream",
          "text": [
            "Epoch 1/200\n",
            "14625/14625 - 27s - loss: 0.0200 - val_loss: 0.0082\n",
            "Epoch 2/200\n",
            "14625/14625 - 25s - loss: 0.0115 - val_loss: 0.0052\n",
            "Epoch 3/200\n",
            "14625/14625 - 25s - loss: 0.0082 - val_loss: 0.0044\n",
            "Epoch 4/200\n",
            "14625/14625 - 26s - loss: 0.0071 - val_loss: 0.0040\n",
            "Epoch 5/200\n",
            "14625/14625 - 26s - loss: 0.0065 - val_loss: 0.0038\n",
            "Epoch 6/200\n",
            "14625/14625 - 26s - loss: 0.0062 - val_loss: 0.0042\n",
            "Epoch 7/200\n",
            "14625/14625 - 26s - loss: 0.0059 - val_loss: 0.0036\n",
            "Epoch 8/200\n",
            "14625/14625 - 26s - loss: 0.0058 - val_loss: 0.0035\n",
            "Epoch 9/200\n",
            "14625/14625 - 26s - loss: 0.0057 - val_loss: 0.0036\n",
            "Epoch 10/200\n",
            "14625/14625 - 25s - loss: 0.0056 - val_loss: 0.0032\n",
            "Epoch 11/200\n",
            "14625/14625 - 25s - loss: 0.0055 - val_loss: 0.0037\n",
            "Epoch 12/200\n",
            "14625/14625 - 25s - loss: 0.0055 - val_loss: 0.0031\n",
            "Epoch 13/200\n",
            "14625/14625 - 25s - loss: 0.0054 - val_loss: 0.0033\n",
            "Epoch 14/200\n",
            "14625/14625 - 25s - loss: 0.0053 - val_loss: 0.0033\n",
            "Epoch 15/200\n",
            "14625/14625 - 25s - loss: 0.0053 - val_loss: 0.0034\n",
            "Epoch 16/200\n",
            "14625/14625 - 25s - loss: 0.0053 - val_loss: 0.0031\n",
            "Epoch 17/200\n",
            "14625/14625 - 24s - loss: 0.0052 - val_loss: 0.0032\n",
            "Epoch 18/200\n",
            "14625/14625 - 25s - loss: 0.0052 - val_loss: 0.0034\n",
            "Epoch 19/200\n",
            "14625/14625 - 25s - loss: 0.0052 - val_loss: 0.0031\n",
            "Epoch 20/200\n",
            "14625/14625 - 25s - loss: 0.0052 - val_loss: 0.0031\n",
            "Epoch 21/200\n",
            "14625/14625 - 25s - loss: 0.0052 - val_loss: 0.0034\n",
            "Epoch 22/200\n",
            "14625/14625 - 24s - loss: 0.0051 - val_loss: 0.0032\n",
            "Epoch 23/200\n",
            "14625/14625 - 24s - loss: 0.0051 - val_loss: 0.0034\n",
            "Epoch 24/200\n",
            "14625/14625 - 24s - loss: 0.0051 - val_loss: 0.0033\n",
            "Epoch 25/200\n",
            "14625/14625 - 24s - loss: 0.0051 - val_loss: 0.0032\n",
            "Epoch 26/200\n",
            "14625/14625 - 24s - loss: 0.0051 - val_loss: 0.0033\n",
            "Epoch 27/200\n",
            "14625/14625 - 25s - loss: 0.0051 - val_loss: 0.0033\n",
            "Epoch 28/200\n",
            "14625/14625 - 24s - loss: 0.0051 - val_loss: 0.0033\n",
            "Epoch 29/200\n",
            "14625/14625 - 24s - loss: 0.0050 - val_loss: 0.0034\n",
            "Epoch 30/200\n",
            "14625/14625 - 24s - loss: 0.0050 - val_loss: 0.0032\n",
            "Epoch 31/200\n",
            "14625/14625 - 24s - loss: 0.0050 - val_loss: 0.0033\n",
            "Epoch 32/200\n",
            "14625/14625 - 24s - loss: 0.0050 - val_loss: 0.0033\n",
            "Epoch 33/200\n",
            "14625/14625 - 24s - loss: 0.0050 - val_loss: 0.0031\n",
            "Epoch 34/200\n",
            "14625/14625 - 24s - loss: 0.0050 - val_loss: 0.0032\n",
            "Epoch 35/200\n",
            "14625/14625 - 24s - loss: 0.0050 - val_loss: 0.0033\n",
            "Epoch 36/200\n",
            "14625/14625 - 24s - loss: 0.0050 - val_loss: 0.0033\n",
            "Epoch 37/200\n",
            "14625/14625 - 24s - loss: 0.0049 - val_loss: 0.0031\n",
            "Epoch 38/200\n",
            "14625/14625 - 24s - loss: 0.0049 - val_loss: 0.0032\n",
            "Epoch 39/200\n",
            "14625/14625 - 24s - loss: 0.0049 - val_loss: 0.0032\n",
            "Epoch 40/200\n",
            "14625/14625 - 24s - loss: 0.0049 - val_loss: 0.0033\n",
            "Epoch 41/200\n",
            "14625/14625 - 24s - loss: 0.0049 - val_loss: 0.0033\n",
            "Epoch 42/200\n",
            "14625/14625 - 25s - loss: 0.0049 - val_loss: 0.0030\n",
            "Epoch 43/200\n",
            "14625/14625 - 24s - loss: 0.0049 - val_loss: 0.0032\n",
            "Epoch 44/200\n",
            "14625/14625 - 24s - loss: 0.0048 - val_loss: 0.0033\n",
            "Epoch 45/200\n",
            "14625/14625 - 24s - loss: 0.0049 - val_loss: 0.0027\n",
            "Epoch 46/200\n",
            "14625/14625 - 24s - loss: 0.0048 - val_loss: 0.0033\n",
            "Epoch 47/200\n",
            "14625/14625 - 24s - loss: 0.0048 - val_loss: 0.0033\n",
            "Epoch 48/200\n",
            "14625/14625 - 24s - loss: 0.0048 - val_loss: 0.0030\n",
            "Epoch 49/200\n",
            "14625/14625 - 24s - loss: 0.0048 - val_loss: 0.0033\n",
            "Epoch 50/200\n",
            "14625/14625 - 24s - loss: 0.0048 - val_loss: 0.0031\n",
            "Epoch 51/200\n",
            "14625/14625 - 25s - loss: 0.0048 - val_loss: 0.0033\n",
            "Epoch 52/200\n",
            "14625/14625 - 25s - loss: 0.0048 - val_loss: 0.0034\n",
            "Epoch 53/200\n",
            "14625/14625 - 25s - loss: 0.0048 - val_loss: 0.0031\n",
            "Epoch 54/200\n",
            "14625/14625 - 25s - loss: 0.0048 - val_loss: 0.0031\n",
            "Epoch 55/200\n",
            "14625/14625 - 25s - loss: 0.0048 - val_loss: 0.0029\n",
            "Epoch 56/200\n",
            "14625/14625 - 25s - loss: 0.0048 - val_loss: 0.0030\n",
            "Epoch 57/200\n",
            "14625/14625 - 25s - loss: 0.0048 - val_loss: 0.0028\n",
            "Epoch 58/200\n",
            "14625/14625 - 25s - loss: 0.0048 - val_loss: 0.0029\n",
            "Epoch 59/200\n",
            "14625/14625 - 24s - loss: 0.0048 - val_loss: 0.0032\n",
            "Epoch 60/200\n",
            "14625/14625 - 25s - loss: 0.0048 - val_loss: 0.0032\n",
            "Epoch 61/200\n",
            "14625/14625 - 25s - loss: 0.0048 - val_loss: 0.0031\n",
            "Epoch 62/200\n",
            "14625/14625 - 25s - loss: 0.0048 - val_loss: 0.0035\n",
            "Epoch 63/200\n",
            "14625/14625 - 25s - loss: 0.0048 - val_loss: 0.0032\n",
            "Epoch 64/200\n",
            "14625/14625 - 24s - loss: 0.0048 - val_loss: 0.0033\n",
            "Epoch 65/200\n",
            "14625/14625 - 25s - loss: 0.0048 - val_loss: 0.0028\n",
            "Epoch 66/200\n",
            "14625/14625 - 24s - loss: 0.0048 - val_loss: 0.0032\n",
            "Epoch 67/200\n",
            "14625/14625 - 24s - loss: 0.0048 - val_loss: 0.0031\n",
            "Epoch 68/200\n",
            "14625/14625 - 24s - loss: 0.0048 - val_loss: 0.0031\n",
            "Epoch 69/200\n",
            "14625/14625 - 24s - loss: 0.0048 - val_loss: 0.0031\n",
            "Epoch 70/200\n",
            "14625/14625 - 24s - loss: 0.0048 - val_loss: 0.0031\n",
            "Epoch 71/200\n",
            "14625/14625 - 24s - loss: 0.0047 - val_loss: 0.0031\n",
            "Epoch 72/200\n",
            "14625/14625 - 24s - loss: 0.0047 - val_loss: 0.0033\n",
            "Epoch 73/200\n",
            "14625/14625 - 25s - loss: 0.0048 - val_loss: 0.0031\n",
            "Epoch 74/200\n",
            "14625/14625 - 24s - loss: 0.0048 - val_loss: 0.0032\n",
            "Epoch 75/200\n",
            "14625/14625 - 24s - loss: 0.0048 - val_loss: 0.0031\n",
            "Epoch 76/200\n",
            "14625/14625 - 24s - loss: 0.0047 - val_loss: 0.0032\n",
            "Epoch 77/200\n",
            "14625/14625 - 24s - loss: 0.0047 - val_loss: 0.0032\n",
            "Epoch 78/200\n",
            "14625/14625 - 24s - loss: 0.0047 - val_loss: 0.0028\n",
            "Epoch 79/200\n",
            "14625/14625 - 24s - loss: 0.0047 - val_loss: 0.0028\n",
            "Epoch 80/200\n",
            "14625/14625 - 24s - loss: 0.0047 - val_loss: 0.0029\n",
            "Epoch 81/200\n",
            "14625/14625 - 24s - loss: 0.0047 - val_loss: 0.0030\n",
            "Epoch 82/200\n",
            "14625/14625 - 24s - loss: 0.0048 - val_loss: 0.0029\n",
            "Epoch 83/200\n",
            "14625/14625 - 24s - loss: 0.0048 - val_loss: 0.0031\n",
            "Epoch 84/200\n",
            "14625/14625 - 24s - loss: 0.0047 - val_loss: 0.0029\n",
            "Epoch 85/200\n",
            "14625/14625 - 25s - loss: 0.0047 - val_loss: 0.0033\n",
            "Epoch 86/200\n",
            "14625/14625 - 25s - loss: 0.0047 - val_loss: 0.0031\n",
            "Epoch 87/200\n",
            "14625/14625 - 24s - loss: 0.0047 - val_loss: 0.0034\n",
            "Epoch 88/200\n",
            "14625/14625 - 25s - loss: 0.0047 - val_loss: 0.0031\n",
            "Epoch 89/200\n",
            "14625/14625 - 24s - loss: 0.0047 - val_loss: 0.0028\n",
            "Epoch 90/200\n",
            "14625/14625 - 24s - loss: 0.0047 - val_loss: 0.0031\n",
            "Epoch 91/200\n",
            "14625/14625 - 24s - loss: 0.0047 - val_loss: 0.0031\n",
            "Epoch 92/200\n",
            "14625/14625 - 25s - loss: 0.0047 - val_loss: 0.0032\n",
            "Epoch 93/200\n",
            "14625/14625 - 25s - loss: 0.0047 - val_loss: 0.0030\n",
            "Epoch 94/200\n",
            "14625/14625 - 24s - loss: 0.0047 - val_loss: 0.0030\n",
            "Epoch 95/200\n",
            "14625/14625 - 25s - loss: 0.0048 - val_loss: 0.0030\n",
            "Epoch 96/200\n",
            "14625/14625 - 24s - loss: 0.0047 - val_loss: 0.0030\n",
            "Epoch 97/200\n",
            "14625/14625 - 24s - loss: 0.0047 - val_loss: 0.0029\n",
            "Epoch 98/200\n",
            "14625/14625 - 25s - loss: 0.0047 - val_loss: 0.0027\n",
            "Epoch 99/200\n",
            "14625/14625 - 25s - loss: 0.0047 - val_loss: 0.0029\n",
            "Epoch 100/200\n",
            "14625/14625 - 25s - loss: 0.0047 - val_loss: 0.0033\n",
            "Epoch 101/200\n",
            "14625/14625 - 25s - loss: 0.0047 - val_loss: 0.0032\n",
            "Epoch 102/200\n",
            "14625/14625 - 25s - loss: 0.0047 - val_loss: 0.0031\n",
            "Epoch 103/200\n",
            "14625/14625 - 25s - loss: 0.0047 - val_loss: 0.0035\n",
            "Epoch 104/200\n",
            "14625/14625 - 25s - loss: 0.0047 - val_loss: 0.0027\n",
            "Epoch 105/200\n",
            "14625/14625 - 24s - loss: 0.0047 - val_loss: 0.0030\n",
            "Epoch 106/200\n",
            "14625/14625 - 24s - loss: 0.0047 - val_loss: 0.0030\n",
            "Epoch 107/200\n",
            "14625/14625 - 25s - loss: 0.0047 - val_loss: 0.0029\n",
            "Epoch 108/200\n",
            "14625/14625 - 25s - loss: 0.0047 - val_loss: 0.0031\n",
            "Epoch 109/200\n",
            "14625/14625 - 25s - loss: 0.0047 - val_loss: 0.0029\n",
            "Epoch 110/200\n",
            "14625/14625 - 25s - loss: 0.0047 - val_loss: 0.0033\n",
            "Epoch 111/200\n",
            "14625/14625 - 24s - loss: 0.0047 - val_loss: 0.0032\n",
            "Epoch 112/200\n",
            "14625/14625 - 25s - loss: 0.0047 - val_loss: 0.0030\n",
            "Epoch 113/200\n",
            "14625/14625 - 24s - loss: 0.0047 - val_loss: 0.0030\n",
            "Epoch 114/200\n",
            "14625/14625 - 24s - loss: 0.0047 - val_loss: 0.0030\n",
            "Epoch 115/200\n",
            "14625/14625 - 24s - loss: 0.0047 - val_loss: 0.0031\n",
            "Epoch 116/200\n",
            "14625/14625 - 24s - loss: 0.0047 - val_loss: 0.0029\n",
            "Epoch 117/200\n",
            "14625/14625 - 24s - loss: 0.0047 - val_loss: 0.0030\n",
            "Epoch 118/200\n",
            "14625/14625 - 24s - loss: 0.0047 - val_loss: 0.0031\n",
            "Epoch 119/200\n",
            "14625/14625 - 24s - loss: 0.0047 - val_loss: 0.0028\n",
            "Epoch 120/200\n",
            "14625/14625 - 24s - loss: 0.0047 - val_loss: 0.0031\n",
            "Epoch 121/200\n",
            "14625/14625 - 24s - loss: 0.0047 - val_loss: 0.0030\n",
            "Epoch 122/200\n",
            "14625/14625 - 24s - loss: 0.0047 - val_loss: 0.0030\n",
            "Epoch 123/200\n",
            "14625/14625 - 24s - loss: 0.0047 - val_loss: 0.0031\n",
            "Epoch 124/200\n",
            "14625/14625 - 24s - loss: 0.0047 - val_loss: 0.0030\n",
            "Epoch 125/200\n",
            "14625/14625 - 26s - loss: 0.0047 - val_loss: 0.0032\n",
            "Epoch 126/200\n",
            "14625/14625 - 25s - loss: 0.0047 - val_loss: 0.0030\n",
            "Epoch 127/200\n",
            "14625/14625 - 24s - loss: 0.0047 - val_loss: 0.0028\n",
            "Epoch 128/200\n",
            "14625/14625 - 24s - loss: 0.0047 - val_loss: 0.0031\n",
            "Epoch 129/200\n",
            "14625/14625 - 24s - loss: 0.0047 - val_loss: 0.0032\n",
            "Epoch 130/200\n",
            "14625/14625 - 24s - loss: 0.0047 - val_loss: 0.0030\n",
            "Epoch 131/200\n",
            "14625/14625 - 24s - loss: 0.0047 - val_loss: 0.0031\n",
            "Epoch 132/200\n",
            "14625/14625 - 25s - loss: 0.0047 - val_loss: 0.0027\n",
            "Epoch 133/200\n",
            "14625/14625 - 24s - loss: 0.0047 - val_loss: 0.0030\n",
            "Epoch 134/200\n",
            "14625/14625 - 24s - loss: 0.0047 - val_loss: 0.0029\n",
            "Epoch 135/200\n",
            "14625/14625 - 24s - loss: 0.0047 - val_loss: 0.0032\n",
            "Epoch 136/200\n",
            "14625/14625 - 24s - loss: 0.0047 - val_loss: 0.0030\n",
            "Epoch 137/200\n",
            "14625/14625 - 24s - loss: 0.0047 - val_loss: 0.0033\n",
            "Epoch 138/200\n",
            "14625/14625 - 24s - loss: 0.0047 - val_loss: 0.0031\n",
            "Epoch 139/200\n",
            "14625/14625 - 24s - loss: 0.0047 - val_loss: 0.0029\n",
            "Epoch 140/200\n",
            "14625/14625 - 24s - loss: 0.0047 - val_loss: 0.0030\n",
            "Epoch 141/200\n",
            "14625/14625 - 24s - loss: 0.0047 - val_loss: 0.0028\n",
            "Epoch 142/200\n",
            "14625/14625 - 24s - loss: 0.0047 - val_loss: 0.0032\n",
            "Epoch 143/200\n",
            "14625/14625 - 24s - loss: 0.0047 - val_loss: 0.0031\n",
            "Epoch 144/200\n",
            "14625/14625 - 24s - loss: 0.0047 - val_loss: 0.0030\n",
            "Epoch 145/200\n",
            "14625/14625 - 24s - loss: 0.0047 - val_loss: 0.0030\n",
            "Epoch 146/200\n",
            "14625/14625 - 24s - loss: 0.0047 - val_loss: 0.0030\n",
            "Epoch 147/200\n",
            "14625/14625 - 24s - loss: 0.0047 - val_loss: 0.0030\n",
            "Epoch 148/200\n",
            "14625/14625 - 24s - loss: 0.0047 - val_loss: 0.0031\n",
            "Epoch 149/200\n",
            "14625/14625 - 25s - loss: 0.0047 - val_loss: 0.0028\n",
            "Epoch 150/200\n",
            "14625/14625 - 24s - loss: 0.0047 - val_loss: 0.0029\n",
            "Epoch 151/200\n",
            "14625/14625 - 25s - loss: 0.0047 - val_loss: 0.0030\n",
            "Epoch 152/200\n",
            "14625/14625 - 24s - loss: 0.0047 - val_loss: 0.0028\n",
            "Epoch 153/200\n",
            "14625/14625 - 24s - loss: 0.0047 - val_loss: 0.0029\n",
            "Epoch 154/200\n",
            "14625/14625 - 24s - loss: 0.0047 - val_loss: 0.0029\n",
            "Epoch 155/200\n",
            "14625/14625 - 24s - loss: 0.0047 - val_loss: 0.0031\n",
            "Epoch 156/200\n",
            "14625/14625 - 24s - loss: 0.0047 - val_loss: 0.0029\n",
            "Epoch 157/200\n",
            "14625/14625 - 24s - loss: 0.0047 - val_loss: 0.0030\n",
            "Epoch 158/200\n",
            "14625/14625 - 24s - loss: 0.0047 - val_loss: 0.0029\n",
            "Epoch 159/200\n",
            "14625/14625 - 24s - loss: 0.0047 - val_loss: 0.0029\n",
            "Epoch 160/200\n",
            "14625/14625 - 24s - loss: 0.0047 - val_loss: 0.0030\n",
            "Epoch 161/200\n",
            "14625/14625 - 24s - loss: 0.0047 - val_loss: 0.0028\n",
            "Epoch 162/200\n",
            "14625/14625 - 25s - loss: 0.0047 - val_loss: 0.0030\n",
            "Epoch 163/200\n",
            "14625/14625 - 24s - loss: 0.0047 - val_loss: 0.0030\n",
            "Epoch 164/200\n",
            "14625/14625 - 25s - loss: 0.0047 - val_loss: 0.0031\n",
            "Epoch 165/200\n",
            "14625/14625 - 24s - loss: 0.0047 - val_loss: 0.0027\n",
            "Epoch 166/200\n",
            "14625/14625 - 24s - loss: 0.0047 - val_loss: 0.0029\n",
            "Epoch 167/200\n",
            "14625/14625 - 24s - loss: 0.0047 - val_loss: 0.0029\n",
            "Epoch 168/200\n",
            "14625/14625 - 24s - loss: 0.0046 - val_loss: 0.0030\n",
            "Epoch 169/200\n",
            "14625/14625 - 24s - loss: 0.0047 - val_loss: 0.0031\n",
            "Epoch 170/200\n",
            "14625/14625 - 24s - loss: 0.0047 - val_loss: 0.0030\n",
            "Epoch 171/200\n",
            "14625/14625 - 24s - loss: 0.0046 - val_loss: 0.0027\n",
            "Epoch 172/200\n",
            "14625/14625 - 24s - loss: 0.0047 - val_loss: 0.0032\n",
            "Epoch 173/200\n",
            "14625/14625 - 24s - loss: 0.0047 - val_loss: 0.0027\n",
            "Epoch 174/200\n",
            "14625/14625 - 24s - loss: 0.0047 - val_loss: 0.0029\n",
            "Epoch 175/200\n",
            "14625/14625 - 24s - loss: 0.0047 - val_loss: 0.0029\n",
            "Epoch 176/200\n",
            "14625/14625 - 24s - loss: 0.0047 - val_loss: 0.0033\n",
            "Epoch 177/200\n",
            "14625/14625 - 24s - loss: 0.0047 - val_loss: 0.0029\n",
            "Epoch 178/200\n",
            "14625/14625 - 24s - loss: 0.0047 - val_loss: 0.0028\n",
            "Epoch 179/200\n",
            "14625/14625 - 24s - loss: 0.0046 - val_loss: 0.0031\n",
            "Epoch 180/200\n",
            "14625/14625 - 24s - loss: 0.0047 - val_loss: 0.0029\n",
            "Epoch 181/200\n",
            "14625/14625 - 24s - loss: 0.0047 - val_loss: 0.0027\n",
            "Epoch 182/200\n",
            "14625/14625 - 24s - loss: 0.0046 - val_loss: 0.0033\n",
            "Epoch 183/200\n",
            "14625/14625 - 24s - loss: 0.0047 - val_loss: 0.0028\n",
            "Epoch 184/200\n",
            "14625/14625 - 24s - loss: 0.0046 - val_loss: 0.0028\n",
            "Epoch 185/200\n",
            "14625/14625 - 24s - loss: 0.0046 - val_loss: 0.0029\n",
            "Epoch 186/200\n",
            "14625/14625 - 25s - loss: 0.0046 - val_loss: 0.0031\n",
            "Epoch 187/200\n",
            "14625/14625 - 25s - loss: 0.0047 - val_loss: 0.0030\n",
            "Epoch 188/200\n",
            "14625/14625 - 25s - loss: 0.0046 - val_loss: 0.0034\n",
            "Epoch 189/200\n",
            "14625/14625 - 25s - loss: 0.0046 - val_loss: 0.0028\n",
            "Epoch 190/200\n",
            "14625/14625 - 24s - loss: 0.0046 - val_loss: 0.0028\n",
            "Epoch 191/200\n",
            "14625/14625 - 24s - loss: 0.0046 - val_loss: 0.0029\n",
            "Epoch 192/200\n",
            "14625/14625 - 24s - loss: 0.0046 - val_loss: 0.0031\n",
            "Epoch 193/200\n",
            "14625/14625 - 24s - loss: 0.0046 - val_loss: 0.0029\n",
            "Epoch 194/200\n",
            "14625/14625 - 25s - loss: 0.0046 - val_loss: 0.0030\n",
            "Epoch 195/200\n",
            "14625/14625 - 24s - loss: 0.0047 - val_loss: 0.0032\n",
            "Epoch 196/200\n",
            "14625/14625 - 25s - loss: 0.0046 - val_loss: 0.0029\n",
            "Epoch 197/200\n",
            "14625/14625 - 24s - loss: 0.0046 - val_loss: 0.0034\n",
            "Epoch 198/200\n",
            "14625/14625 - 24s - loss: 0.0046 - val_loss: 0.0030\n",
            "Epoch 199/200\n",
            "14625/14625 - 24s - loss: 0.0046 - val_loss: 0.0030\n",
            "Epoch 200/200\n",
            "14625/14625 - 24s - loss: 0.0046 - val_loss: 0.0032\n"
          ],
          "name": "stdout"
        }
      ]
    },
    {
      "cell_type": "code",
      "metadata": {
        "colab": {
          "base_uri": "https://localhost:8080/",
          "height": 265
        },
        "id": "VTRn6qyGfIsf",
        "outputId": "cc88f9f5-10e0-43f9-a889-42c5d1c15d28"
      },
      "source": [
        "# plot loss\n",
        "pyplot.plot(history.history['loss'], label='train')\n",
        "pyplot.plot(history.history['val_loss'], label='test')\n",
        "pyplot.legend()\n",
        "pyplot.show()"
      ],
      "execution_count": 27,
      "outputs": [
        {
          "output_type": "display_data",
          "data": {
            "image/png": "[encoded data removed]",
            "text/plain": [
              "<Figure size 432x288 with 1 Axes>"
            ]
          },
          "metadata": {
            "tags": [],
            "needs_background": "light"
          }
        }
      ]
    },
    {
      "cell_type": "code",
      "metadata": {
        "id": "2uLfW6rTqMS1"
      },
      "source": [
        "# define an encoder model (without the decoder)\n",
        "encoder_Compressed = Model(inputs=visible, outputs=bottleneck)"
      ],
      "execution_count": 28,
      "outputs": []
    },
    {
      "cell_type": "code",
      "metadata": {
        "colab": {
          "base_uri": "https://localhost:8080/",
          "height": 865
        },
        "id": "FPU0uFpCqUWi",
        "outputId": "7862ad8c-5d49-41e3-9050-b4eb142c99db"
      },
      "source": [
        "plot_model(encoder_Compressed, 'encoder_compress.png', show_shapes=True)"
      ],
      "execution_count": 29,
      "outputs": [
        {
          "output_type": "execute_result",
          "data": {
            "image/png": "[encoded data removed]",
            "text/plain": [
              "<IPython.core.display.Image object>"
            ]
          },
          "metadata": {
            "tags": []
          },
          "execution_count": 29
        }
      ]
    },
    {
      "cell_type": "code",
      "metadata": {
        "id": "Lq5gXEYXqje_"
      },
      "source": [
        "# save the encoder to file\n",
        "encoder_Compressed.save('/content/drive/MyDrive/March 2021 Playground series/encoder_Compressed.h5')"
      ],
      "execution_count": 30,
      "outputs": []
    },
    {
      "cell_type": "code",
      "metadata": {
        "id": "ZDRo5IKtrXKe"
      },
      "source": [
        "import lightgbm as lgb\n",
        "from sklearn.metrics import roc_auc_score\n",
        "from sklearn.metrics import accuracy_score"
      ],
      "execution_count": 31,
      "outputs": []
    },
    {
      "cell_type": "code",
      "metadata": {
        "id": "znxDaWOaqnb-"
      },
      "source": [
        "model = lgb.LGBMClassifier(learning_rate=0.1,n_estimators=300)\n",
        "# fit model on training set\n",
        "model.fit(X_train, y_train)\n",
        "# make prediction on test set\n",
        "yhat = model.predict(X_test)"
      ],
      "execution_count": 32,
      "outputs": []
    },
    {
      "cell_type": "code",
      "metadata": {
        "colab": {
          "base_uri": "https://localhost:8080/"
        },
        "id": "GVIm2NY7riHt",
        "outputId": "6b90c76d-4d7c-482e-d308-b252a02825dc"
      },
      "source": [
        "# calculate accuracy\n",
        "acc = accuracy_score(y_test, yhat)\n",
        "print(acc)\n",
        "roc = roc_auc_score(y_test, yhat)\n",
        "print(roc)"
      ],
      "execution_count": 33,
      "outputs": [
        {
          "output_type": "stream",
          "text": [
            "0.8488333333333333\n",
            "0.7758694407223516\n"
          ],
          "name": "stdout"
        }
      ]
    },
    {
      "cell_type": "code",
      "metadata": {
        "colab": {
          "base_uri": "https://localhost:8080/"
        },
        "id": "4KRlu_easbXO",
        "outputId": "57fa583d-97bb-424f-b9d4-99f345bb17bc"
      },
      "source": [
        "# load the model from file\n",
        "from keras.models import load_model\n",
        "encoder_Compressed = load_model('/content/drive/MyDrive/March 2021 Playground series/encoder_Compressed.h5')"
      ],
      "execution_count": 34,
      "outputs": [
        {
          "output_type": "stream",
          "text": [
            "WARNING:tensorflow:No training configuration found in the save file, so the model was *not* compiled. Compile it manually.\n"
          ],
          "name": "stdout"
        }
      ]
    },
    {
      "cell_type": "code",
      "metadata": {
        "id": "4S1vsbZttgwB"
      },
      "source": [
        "# encode the train data\n",
        "X_train_encode = encoder_Compressed.predict(X_train)\n",
        "# encode the test data\n",
        "X_test_encode = encoder_Compressed.predict(X_test)"
      ],
      "execution_count": 36,
      "outputs": []
    },
    {
      "cell_type": "code",
      "metadata": {
        "id": "UlU2qbUCtldw"
      },
      "source": [
        "# define the model\n",
        "model = lgb.LGBMClassifier(learning_rate=0.1,n_estimators=300)\n",
        "# fit the model on the training set\n",
        "model.fit(X_train_encode, y_train)\n",
        "# make predictions on the test set\n",
        "yhat_1 = model.predict(X_test_encode)"
      ],
      "execution_count": 37,
      "outputs": []
    },
    {
      "cell_type": "code",
      "metadata": {
        "colab": {
          "base_uri": "https://localhost:8080/"
        },
        "id": "djqHjZFWt28Y",
        "outputId": "8d6949ac-30e9-4a6b-c335-3f608fb0b199"
      },
      "source": [
        "# calculate accuracy\n",
        "acc = accuracy_score(y_test, yhat_1)\n",
        "print(acc)\n",
        "roc = roc_auc_score(y_test, yhat_1)\n",
        "print(roc)"
      ],
      "execution_count": 38,
      "outputs": [
        {
          "output_type": "stream",
          "text": [
            "0.8386515151515151\n",
            "0.7602781654314261\n"
          ],
          "name": "stdout"
        }
      ]
    },
    {
      "cell_type": "code",
      "metadata": {
        "id": "wsnGScY7wMxy"
      },
      "source": [
        ""
      ],
      "execution_count": null,
      "outputs": []
    }
  ]
}